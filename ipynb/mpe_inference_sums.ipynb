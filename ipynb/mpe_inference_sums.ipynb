{
 "cells": [
  {
   "cell_type": "code",
   "execution_count": 1,
   "metadata": {
    "collapsed": false
   },
   "outputs": [],
   "source": [
    "import libspn as spn\n",
    "import tensorflow as tf\n",
    "\n",
    "import numpy as np\n",
    "sess = tf.InteractiveSession()"
   ]
  },
  {
   "cell_type": "code",
   "execution_count": 2,
   "metadata": {
    "collapsed": false
   },
   "outputs": [],
   "source": [
    "# Inputs\n",
    "ivs = spn.IVs(num_vars=2, num_vals=2, name=\"IVs\")\n",
    "\n",
    "# Input mixtures\n",
    "# Sums-1\n",
    "s1 = spn.Sums((ivs, [0, 1]), num_sums=2, name=\"Sums1\")\n",
    "s1.generate_weights([0.4, 0.6, 0.1, 0.9])\n",
    "\n",
    "# Sums-2\n",
    "s2 = spn.Sums((ivs, [2, 3]), num_sums=2, name=\"Sums2\")\n",
    "s2.generate_weights([0.7, 0.3, 0.8, 0.2])\n",
    "\n",
    "p = spn.Products((s1, [0]), (s2, [0]),\n",
    "             (s1, [0]), (s2, [1]),\n",
    "             (s1, [1]), (s2, [1]),\n",
    "             num_prods=3, name=\"Comp1-2-3\")\n",
    "\n",
    "# Mixing components\n",
    "root = spn.Sums((p, [0, 1, 2]), name=\"Mixture\")\n",
    "root.generate_weights([0.5, 0.2, 0.3])\n",
    "\n",
    "# Init weights\n",
    "spn.initialize_weights(root).run()"
   ]
  },
  {
   "cell_type": "code",
   "execution_count": 3,
   "metadata": {
    "collapsed": false
   },
   "outputs": [
    {
     "data": {
      "text/html": [
       "<svg id=\"S055ace301b50425f98ba131b67eec330\" width=\"950\" height=\"800\"></svg>\n",
       "<script>\n",
       " require.config({\n",
       "   paths: {\n",
       "     d3: 'https://d3js.org/d3.v4.min'\n",
       "   }\n",
       " });\n",
       " require(['d3'], function(d3){\n",
       "\n",
       "   var graph = {\"links\": [{\"source\": \"Sums2_Weights_1\", \"value\": 2, \"target\": \"Sums2\"}, {\"source\": \"IVs_2\", \"value\": 2, \"target\": \"Sums2\"}, {\"source\": \"Sums1_Weights_3\", \"value\": 2, \"target\": \"Sums1\"}, {\"source\": \"IVs_4\", \"value\": 2, \"target\": \"Sums1\"}, {\"source\": \"Sums1\", \"value\": 1, \"target\": \"Comp1-2-3\"}, {\"source\": \"Sums2\", \"value\": 1, \"target\": \"Comp1-2-3\"}, {\"source\": \"Sums1\", \"value\": 1, \"target\": \"Comp1-2-3\"}, {\"source\": \"Sums2\", \"value\": 1, \"target\": \"Comp1-2-3\"}, {\"source\": \"Sums1\", \"value\": 1, \"target\": \"Comp1-2-3\"}, {\"source\": \"Sums2\", \"value\": 1, \"target\": \"Comp1-2-3\"}, {\"source\": \"Mixture_Weights_5\", \"value\": 3, \"target\": \"Mixture\"}, {\"source\": \"Comp1-2-3\", \"value\": 3, \"target\": \"Mixture\"}], \"nodes\": [{\"type\": 2, \"tooltip\": \"Sums2\", \"id\": \"Sums2\", \"name\": \"Sums2\"}, {\"type\": 1, \"tooltip\": \"Sums2_Weights\", \"id\": \"Sums2_Weights_1\", \"name\": \"Sums2_Weights\"}, {\"type\": 0, \"tooltip\": \"IVs\", \"id\": \"IVs_2\", \"name\": \"IVs[2, 3]\"}, {\"type\": 2, \"tooltip\": \"Sums1\", \"id\": \"Sums1\", \"name\": \"Sums1\"}, {\"type\": 1, \"tooltip\": \"Sums1_Weights\", \"id\": \"Sums1_Weights_3\", \"name\": \"Sums1_Weights\"}, {\"type\": 0, \"tooltip\": \"IVs\", \"id\": \"IVs_4\", \"name\": \"IVs[0, 1]\"}, {\"type\": 3, \"tooltip\": \"Comp1-2-3\", \"id\": \"Comp1-2-3\", \"name\": \"Comp1-2-3\"}, {\"type\": 2, \"tooltip\": \"Mixture\", \"id\": \"Mixture\", \"name\": \"Mixture\"}, {\"type\": 1, \"tooltip\": \"Mixture_Weights\", \"id\": \"Mixture_Weights_5\", \"name\": \"Mixture_Weights\"}]};\n",
       "\n",
       "   var color = d3.scaleOrdinal(d3.schemeCategory10);\n",
       "\n",
       "   var zoom = d3.zoom()\n",
       "                .scaleExtent([0.1, 10])\n",
       "                .on(\"zoom\", zoomed);\n",
       "\n",
       "   var svg = d3.select(\"#S055ace301b50425f98ba131b67eec330\").\n",
       "                call(zoom);\n",
       "\n",
       "   var width = svg.attr(\"width\");\n",
       "   var height = svg.attr(\"height\");\n",
       "\n",
       "   var simulation = d3.forceSimulation(graph.nodes)\n",
       "                      .on(\"tick\", ticked)\n",
       "                      .force(\"link\", d3.forceLink(graph.links)\n",
       "                                       .distance(80)\n",
       "                                       .id(function(d) { return d.id; }))\n",
       "                      .force(\"charge\", d3.forceManyBody().\n",
       "                                          strength(-1000))\n",
       "                      .force(\"center\", d3.forceCenter(width / 2, height / 2));\n",
       "\n",
       "   /* Contents */\n",
       "   var container = svg.append(\"g\").\n",
       "                       attr(\"class\", \"container\");\n",
       "\n",
       "   var link = container.append(\"g\")\n",
       "                       .selectAll(\"link\")\n",
       "                       .data(graph.links)\n",
       "                       .enter().append(\"line\")\n",
       "                       .attr(\"stroke\", \"#444\")\n",
       "                       .attr(\"stroke-opacity\", \"0.6\")\n",
       "                       .attr(\"stroke-width\",\n",
       "                             function(d) {\n",
       "                               return d.value;\n",
       "                               /*return Math.sqrt(d.value);*/\n",
       "                             });\n",
       "\n",
       "   var link_value = container.append(\"g\")\n",
       "                             .selectAll(\"linkvalue\")\n",
       "                             .data(graph.links)\n",
       "                             .enter().append(\"text\")\n",
       "                             .attr(\"alignment-baseline\", \"middle\")\n",
       "                             .style(\"text-anchor\", \"middle\")\n",
       "                             .text(function(d) { return d.value; });\n",
       "\n",
       "   var node = container.append(\"g\")\n",
       "                       .selectAll(\"node\")\n",
       "                       .data(graph.nodes)\n",
       "                       .enter().append(\"g\")\n",
       "                       .call(d3.drag()\n",
       "                               .on(\"start\", dragstarted)\n",
       "                               .on(\"drag\", dragged)\n",
       "                               .on(\"end\", dragended));\n",
       "\n",
       "   /* Node appearance */\n",
       "   node.append(\"rect\")\n",
       "       .attr(\"height\", 0)\n",
       "       .attr(\"width\", 0)\n",
       "       .attr(\"fill\", function(d) { return color(d.type); })\n",
       "       .attr(\"stroke\", \"#000\")\n",
       "       .attr(\"stroke-width\", \"1px\");\n",
       "\n",
       "   node.append(\"text\")\n",
       "       .attr(\"alignment-baseline\", \"middle\")\n",
       "       .style(\"text-anchor\", \"middle\")\n",
       "       .text(function(d) { return d.name; });\n",
       "\n",
       "   /* Adjust rect width to text */\n",
       "   var margin=10;\n",
       "   node.selectAll('rect')\n",
       "       .attr(\"x\", function(d) {return d3.select(this).attr(\"x\") - (this.parentNode.getBBox().width + margin)/2.0;})\n",
       "       .attr(\"y\", function(d) {return d3.select(this).attr(\"y\") - (this.parentNode.getBBox().height + margin)/2.0;})\n",
       "       .attr(\"width\", function(d) {return this.parentNode.getBBox().width + margin;})\n",
       "       .attr(\"height\", function(d) {return this.parentNode.getBBox().height + margin;});\n",
       "\n",
       "   /* Tooltips */\n",
       "   node.append(\"title\")\n",
       "       .text(function(d) { return d.tooltip; });\n",
       "\n",
       "   /* Functions */\n",
       "   function zoomed() {\n",
       "     container.attr(\"transform\", d3.event.transform);\n",
       "   }\n",
       "\n",
       "   function ticked() {\n",
       "     link\n",
       "       .attr(\"x1\", function(d) { return d.source.x; })\n",
       "       .attr(\"y1\", function(d) { return d.source.y; })\n",
       "       .attr(\"x2\", function(d) { return d.target.x; })\n",
       "       .attr(\"y2\", function(d) { return d.target.y; });\n",
       "\n",
       "     link_value\n",
       "       .attr(\"x\", function(d) { return (d.source.x+d.target.x)/2; })\n",
       "       .attr(\"y\", function(d) { return (d.source.y+d.target.y)/2; })\n",
       "\n",
       "     node.attr(\"transform\",\n",
       "               function(d) { return \"translate(\" + d.x + \",\" + d.y + \")\"; });\n",
       "   }\n",
       "\n",
       "   function dragstarted(d) {\n",
       "     if (!d3.event.active) simulation.alphaTarget(0.3).restart();\n",
       "     d.fx = d.x;\n",
       "     d.fy = d.y;\n",
       "   }\n",
       "\n",
       "   function dragged(d) {\n",
       "     d.fx = d3.event.x;\n",
       "     d.fy = d3.event.y;\n",
       "   }\n",
       "\n",
       "   function dragended(d) {\n",
       "     if (!d3.event.active) simulation.alphaTarget(0);\n",
       "     d.fx = null;\n",
       "     d.fy = null;\n",
       "   }\n",
       "\n",
       " });\n",
       "</script>\n"
      ],
      "text/plain": [
       "<IPython.core.display.HTML object>"
      ]
     },
     "metadata": {},
     "output_type": "display_data"
    }
   ],
   "source": [
    "spn.display_spn_graph(root)"
   ]
  },
  {
   "cell_type": "code",
   "execution_count": 4,
   "metadata": {
    "collapsed": false
   },
   "outputs": [],
   "source": [
    "# Feed\n",
    "values = np.arange(-1, 2)\n",
    "points = np.array(np.meshgrid(*[values for i in range(2)])).T\n",
    "feed = points.reshape(-1, points.shape[-1])\n",
    "\n",
    "# True value\n",
    "true_values = np.array([[1.0],\n",
    "                        [0.75],\n",
    "                        [0.25],\n",
    "                        [0.31],\n",
    "                        [0.228],\n",
    "                        [0.082],\n",
    "                        [0.69],\n",
    "                        [0.522],\n",
    "                        [0.168]], dtype=spn.conf.dtype.as_numpy_dtype)\n",
    "\n",
    "# True MPE value\n",
    "true_mpe_values = np.array([[0.216],\n",
    "                            [0.216],\n",
    "                            [0.09],\n",
    "                            [0.14],\n",
    "                            [0.14],\n",
    "                            [0.06],\n",
    "                            [0.216],\n",
    "                            [0.216],\n",
    "                            [0.09]], dtype=spn.conf.dtype.as_numpy_dtype)"
   ]
  },
  {
   "cell_type": "code",
   "execution_count": 5,
   "metadata": {
    "collapsed": false
   },
   "outputs": [],
   "source": [
    "# Value\n",
    "value=root.get_value()\n",
    "log_value=root.get_log_value()"
   ]
  },
  {
   "cell_type": "code",
   "execution_count": 6,
   "metadata": {
    "collapsed": false
   },
   "outputs": [
    {
     "name": "stdout",
     "output_type": "stream",
     "text": [
      "[[ 1.        ]\n",
      " [ 0.75      ]\n",
      " [ 0.25000003]\n",
      " [ 0.31      ]\n",
      " [ 0.22800002]\n",
      " [ 0.082     ]\n",
      " [ 0.69      ]\n",
      " [ 0.52200001]\n",
      " [ 0.16800001]]\n",
      "[[ 1.        ]\n",
      " [ 0.75      ]\n",
      " [ 0.25      ]\n",
      " [ 0.31      ]\n",
      " [ 0.228     ]\n",
      " [ 0.082     ]\n",
      " [ 0.69      ]\n",
      " [ 0.52200001]\n",
      " [ 0.168     ]]\n"
     ]
    }
   ],
   "source": [
    "value_array=value.eval(feed_dict={ivs: feed})\n",
    "value_array_log=np.exp(log_value.eval(feed_dict={ivs: feed}))\n",
    "\n",
    "print(value_array)\n",
    "print(true_values)\n",
    "np.testing.assert_almost_equal(value_array, true_values)\n",
    "np.testing.assert_almost_equal(value_array_log, true_values)"
   ]
  },
  {
   "cell_type": "code",
   "execution_count": 7,
   "metadata": {
    "collapsed": true
   },
   "outputs": [],
   "source": [
    "# MPE Value\n",
    "mpe_value = root.get_value(spn.InferenceType.MPE)\n",
    "log_mpe_value = root.get_log_value(spn.InferenceType.MPE)"
   ]
  },
  {
   "cell_type": "code",
   "execution_count": 8,
   "metadata": {
    "collapsed": false
   },
   "outputs": [
    {
     "name": "stdout",
     "output_type": "stream",
     "text": [
      "[[ 0.21600001]\n",
      " [ 0.21600001]\n",
      " [ 0.09      ]\n",
      " [ 0.14      ]\n",
      " [ 0.14      ]\n",
      " [ 0.06      ]\n",
      " [ 0.21600001]\n",
      " [ 0.21600001]\n",
      " [ 0.09      ]]\n",
      "[[ 0.21600001]\n",
      " [ 0.21600001]\n",
      " [ 0.09      ]\n",
      " [ 0.14      ]\n",
      " [ 0.14      ]\n",
      " [ 0.06      ]\n",
      " [ 0.21600001]\n",
      " [ 0.21600001]\n",
      " [ 0.09      ]]\n"
     ]
    }
   ],
   "source": [
    "mpe_value_array=mpe_value.eval(feed_dict={ivs: feed})\n",
    "mpe_value_array_log=np.exp(log_mpe_value.eval(feed_dict={ivs: feed}))\n",
    "\n",
    "print(mpe_value_array)\n",
    "print(true_mpe_values)\n",
    "np.testing.assert_almost_equal(mpe_value_array, true_mpe_values)\n",
    "np.testing.assert_almost_equal(mpe_value_array_log, true_mpe_values)"
   ]
  },
  {
   "cell_type": "code",
   "execution_count": 9,
   "metadata": {
    "collapsed": false
   },
   "outputs": [
    {
     "ename": "ValueError",
     "evalue": "'out_num_cols' must be larger than the size of the indexed dimension of 'params'",
     "output_type": "error",
     "traceback": [
      "\u001b[0;31m---------------------------------------------------------------------------\u001b[0m",
      "\u001b[0;31mValueError\u001b[0m                                Traceback (most recent call last)",
      "\u001b[0;32m<ipython-input-9-5f8e1c6267bb>\u001b[0m in \u001b[0;36m<module>\u001b[0;34m()\u001b[0m\n\u001b[1;32m      1\u001b[0m \u001b[0;31m# MPE MPE Path\u001b[0m\u001b[0;34m\u001b[0m\u001b[0;34m\u001b[0m\u001b[0m\n\u001b[1;32m      2\u001b[0m \u001b[0mmpe_mpe_path_gen\u001b[0m \u001b[0;34m=\u001b[0m \u001b[0mspn\u001b[0m\u001b[0;34m.\u001b[0m\u001b[0mMPEPath\u001b[0m\u001b[0;34m(\u001b[0m\u001b[0mvalue_inference_type\u001b[0m\u001b[0;34m=\u001b[0m\u001b[0mspn\u001b[0m\u001b[0;34m.\u001b[0m\u001b[0mInferenceType\u001b[0m\u001b[0;34m.\u001b[0m\u001b[0mMPE\u001b[0m\u001b[0;34m,\u001b[0m \u001b[0mlog\u001b[0m\u001b[0;34m=\u001b[0m\u001b[0;32mFalse\u001b[0m\u001b[0;34m)\u001b[0m\u001b[0;34m\u001b[0m\u001b[0m\n\u001b[0;32m----> 3\u001b[0;31m \u001b[0mmpe_mpe_path_gen\u001b[0m\u001b[0;34m.\u001b[0m\u001b[0mget_mpe_path\u001b[0m\u001b[0;34m(\u001b[0m\u001b[0mroot\u001b[0m\u001b[0;34m)\u001b[0m\u001b[0;34m\u001b[0m\u001b[0m\n\u001b[0m\u001b[1;32m      4\u001b[0m \u001b[0;34m\u001b[0m\u001b[0m\n\u001b[1;32m      5\u001b[0m \u001b[0;31m#print(mpe_mpe_path_gen.counts[ivs].eval(feed_dict={ivs: feed}))\u001b[0m\u001b[0;34m\u001b[0m\u001b[0;34m\u001b[0m\u001b[0m\n",
      "\u001b[0;32m/home/nash/Dropbox/KTH/Projects/libspn/libspn/inference/mpe_path.py\u001b[0m in \u001b[0;36mget_mpe_path\u001b[0;34m(self, root)\u001b[0m\n\u001b[1;32m     94\u001b[0m             \u001b[0;31m# Traverse the graph computing counts\u001b[0m\u001b[0;34m\u001b[0m\u001b[0;34m\u001b[0m\u001b[0m\n\u001b[1;32m     95\u001b[0m             \u001b[0mself\u001b[0m\u001b[0;34m.\u001b[0m\u001b[0m_counts\u001b[0m \u001b[0;34m=\u001b[0m \u001b[0;34m{\u001b[0m\u001b[0;34m}\u001b[0m\u001b[0;34m\u001b[0m\u001b[0m\n\u001b[0;32m---> 96\u001b[0;31m             \u001b[0mcompute_graph_up_down\u001b[0m\u001b[0;34m(\u001b[0m\u001b[0mroot\u001b[0m\u001b[0;34m,\u001b[0m \u001b[0mdown_fun\u001b[0m\u001b[0;34m=\u001b[0m\u001b[0mdown_fun\u001b[0m\u001b[0;34m,\u001b[0m \u001b[0mgraph_input\u001b[0m\u001b[0;34m=\u001b[0m\u001b[0mgraph_input\u001b[0m\u001b[0;34m)\u001b[0m\u001b[0;34m\u001b[0m\u001b[0m\n\u001b[0m",
      "\u001b[0;32m/home/nash/Dropbox/KTH/Projects/libspn/libspn/graph/algorithms.py\u001b[0m in \u001b[0;36mcompute_graph_up_down\u001b[0;34m(root, down_fun, graph_input, up_fun, up_values, down_values)\u001b[0m\n\u001b[1;32m    149\u001b[0m                             down_values[parent_node][parent_input_nr])\n\u001b[1;32m    150\u001b[0m                     \u001b[0;31m# All parent values are available, compute value\u001b[0m\u001b[0;34m\u001b[0m\u001b[0;34m\u001b[0m\u001b[0m\n\u001b[0;32m--> 151\u001b[0;31m                     \u001b[0mdown_values\u001b[0m\u001b[0;34m[\u001b[0m\u001b[0mchild\u001b[0m\u001b[0;34m]\u001b[0m \u001b[0;34m=\u001b[0m \u001b[0mdown_fun\u001b[0m\u001b[0;34m(\u001b[0m\u001b[0mchild\u001b[0m\u001b[0;34m,\u001b[0m \u001b[0mparent_vals\u001b[0m\u001b[0;34m)\u001b[0m\u001b[0;34m\u001b[0m\u001b[0m\n\u001b[0m\u001b[1;32m    152\u001b[0m                     \u001b[0;31m# Enqueue for further processing of children\u001b[0m\u001b[0;34m\u001b[0m\u001b[0;34m\u001b[0m\u001b[0m\n\u001b[1;32m    153\u001b[0m                     \u001b[0;32mif\u001b[0m \u001b[0mchild\u001b[0m\u001b[0;34m.\u001b[0m\u001b[0mis_op\u001b[0m\u001b[0;34m:\u001b[0m\u001b[0;34m\u001b[0m\u001b[0m\n",
      "\u001b[0;32m/home/nash/Dropbox/KTH/Projects/libspn/libspn/inference/mpe_path.py\u001b[0m in \u001b[0;36mdown_fun\u001b[0;34m(node, parent_vals)\u001b[0m\n\u001b[1;32m     82\u001b[0m                                       for i in node.inputs],\n\u001b[1;32m     83\u001b[0m                             \u001b[0madd_random\u001b[0m\u001b[0;34m=\u001b[0m\u001b[0mself\u001b[0m\u001b[0;34m.\u001b[0m\u001b[0m_add_random\u001b[0m\u001b[0;34m,\u001b[0m\u001b[0;34m\u001b[0m\u001b[0m\n\u001b[0;32m---> 84\u001b[0;31m                             use_unweighted=self._use_unweighted)\n\u001b[0m\u001b[1;32m     85\u001b[0m \u001b[0;34m\u001b[0m\u001b[0m\n\u001b[1;32m     86\u001b[0m         \u001b[0;31m# Generate values if not yet generated\u001b[0m\u001b[0;34m\u001b[0m\u001b[0;34m\u001b[0m\u001b[0m\n",
      "\u001b[0;32m/home/nash/Dropbox/KTH/Projects/libspn/libspn/graph/products.py\u001b[0m in \u001b[0;36m_compute_mpe_path\u001b[0;34m(self, counts, add_random, use_unweighted, *value_values)\u001b[0m\n\u001b[1;32m    168\u001b[0m         \u001b[0;31m# TODO: Scatter to input tensors can be merged with tiling to reduce\u001b[0m\u001b[0;34m\u001b[0m\u001b[0;34m\u001b[0m\u001b[0m\n\u001b[1;32m    169\u001b[0m         \u001b[0;31m# the amount of operations.\u001b[0m\u001b[0;34m\u001b[0m\u001b[0;34m\u001b[0m\u001b[0m\n\u001b[0;32m--> 170\u001b[0;31m         \u001b[0;32mreturn\u001b[0m \u001b[0mself\u001b[0m\u001b[0;34m.\u001b[0m\u001b[0m_scatter_to_input_tensors\u001b[0m\u001b[0;34m(\u001b[0m\u001b[0;34m*\u001b[0m\u001b[0mvalue_counts\u001b[0m\u001b[0;34m)\u001b[0m\u001b[0;34m\u001b[0m\u001b[0m\n\u001b[0m\u001b[1;32m    171\u001b[0m \u001b[0;34m\u001b[0m\u001b[0m\n\u001b[1;32m    172\u001b[0m     \u001b[0;32mdef\u001b[0m \u001b[0m_compute_log_mpe_path\u001b[0m\u001b[0;34m(\u001b[0m\u001b[0mself\u001b[0m\u001b[0;34m,\u001b[0m \u001b[0mcounts\u001b[0m\u001b[0;34m,\u001b[0m \u001b[0;34m*\u001b[0m\u001b[0mvalue_values\u001b[0m\u001b[0;34m,\u001b[0m \u001b[0madd_random\u001b[0m\u001b[0;34m=\u001b[0m\u001b[0;32mFalse\u001b[0m\u001b[0;34m,\u001b[0m \u001b[0muse_unweighted\u001b[0m\u001b[0;34m=\u001b[0m\u001b[0;32mFalse\u001b[0m\u001b[0;34m)\u001b[0m\u001b[0;34m:\u001b[0m\u001b[0;34m\u001b[0m\u001b[0m\n",
      "\u001b[0;32m/home/nash/Dropbox/KTH/Projects/libspn/libspn/graph/node.py\u001b[0m in \u001b[0;36m_scatter_to_input_tensors\u001b[0;34m(self, *tuples)\u001b[0m\n\u001b[1;32m    702\u001b[0m                              int(t[1].get_shape()\n\u001b[1;32m    703\u001b[0m                                  [0 if t[1].get_shape().ndims == 1 else 1]))\n\u001b[0;32m--> 704\u001b[0;31m                          for i, t in zip(self.inputs, tuples))\n\u001b[0m\u001b[1;32m    705\u001b[0m \u001b[0;34m\u001b[0m\u001b[0m\n\u001b[1;32m    706\u001b[0m     \u001b[0;34m@\u001b[0m\u001b[0mabstractmethod\u001b[0m\u001b[0;34m\u001b[0m\u001b[0m\n",
      "\u001b[0;32m/home/nash/Dropbox/KTH/Projects/libspn/libspn/graph/node.py\u001b[0m in \u001b[0;36m<genexpr>\u001b[0;34m(.0)\u001b[0m\n\u001b[1;32m    702\u001b[0m                              int(t[1].get_shape()\n\u001b[1;32m    703\u001b[0m                                  [0 if t[1].get_shape().ndims == 1 else 1]))\n\u001b[0;32m--> 704\u001b[0;31m                          for i, t in zip(self.inputs, tuples))\n\u001b[0m\u001b[1;32m    705\u001b[0m \u001b[0;34m\u001b[0m\u001b[0m\n\u001b[1;32m    706\u001b[0m     \u001b[0;34m@\u001b[0m\u001b[0mabstractmethod\u001b[0m\u001b[0;34m\u001b[0m\u001b[0m\n",
      "\u001b[0;32m/home/nash/Dropbox/KTH/Projects/libspn/libspn/utils/math.py\u001b[0m in \u001b[0;36mscatter_cols\u001b[0;34m(params, indices, out_num_cols, name)\u001b[0m\n\u001b[1;32m    146\u001b[0m                              % type(out_num_cols))\n\u001b[1;32m    147\u001b[0m         \u001b[0;32mif\u001b[0m \u001b[0mout_num_cols\u001b[0m \u001b[0;34m<\u001b[0m \u001b[0mparam_size\u001b[0m\u001b[0;34m:\u001b[0m\u001b[0;34m\u001b[0m\u001b[0m\n\u001b[0;32m--> 148\u001b[0;31m             raise ValueError(\"'out_num_cols' must be larger than the size of \"\n\u001b[0m\u001b[1;32m    149\u001b[0m                              \"the indexed dimension of 'params'\")\n\u001b[1;32m    150\u001b[0m         \u001b[0;31m# Check indices\u001b[0m\u001b[0;34m\u001b[0m\u001b[0;34m\u001b[0m\u001b[0m\n",
      "\u001b[0;31mValueError\u001b[0m: 'out_num_cols' must be larger than the size of the indexed dimension of 'params'"
     ]
    }
   ],
   "source": [
    "# MPE MPE Path\n",
    "mpe_mpe_path_gen = spn.MPEPath(value_inference_type=spn.InferenceType.MPE, log=False)\n",
    "mpe_mpe_path_gen.get_mpe_path(root)\n",
    "\n",
    "#print(mpe_mpe_path_gen.counts[ivs].eval(feed_dict={ivs: feed}))"
   ]
  },
  {
   "cell_type": "code",
   "execution_count": null,
   "metadata": {
    "collapsed": false
   },
   "outputs": [],
   "source": [
    "# MPE Marginal Path\n",
    "mpe_marginal_path_gen = spn.MPEPath(value_inference_type=spn.InferenceType.MARGINAL, log=False)\n",
    "mpe_marginal_path_gen.get_mpe_path(root)\n",
    "\n",
    "#print(mpe_marginal_path_gen.counts[ivs].eval(feed_dict={ivs: feed}))"
   ]
  },
  {
   "cell_type": "code",
   "execution_count": null,
   "metadata": {
    "collapsed": true
   },
   "outputs": [],
   "source": []
  }
 ],
 "metadata": {
  "kernelspec": {
   "display_name": "Python 3",
   "language": "python",
   "name": "python3"
  },
  "language_info": {
   "codemirror_mode": {
    "name": "ipython",
    "version": 3
   },
   "file_extension": ".py",
   "mimetype": "text/x-python",
   "name": "python",
   "nbconvert_exporter": "python",
   "pygments_lexer": "ipython3",
   "version": "3.5.2"
  }
 },
 "nbformat": 4,
 "nbformat_minor": 1
}
