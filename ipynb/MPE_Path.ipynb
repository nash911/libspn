{
 "cells": [
  {
   "cell_type": "code",
   "execution_count": 1,
   "metadata": {
    "collapsed": false
   },
   "outputs": [],
   "source": [
    "import tensorflow as tf\n",
    "import libspn as spn\n",
    "import numpy as np\n",
    "\n",
    "sess = tf.InteractiveSession()"
   ]
  },
  {
   "cell_type": "code",
   "execution_count": 2,
   "metadata": {
    "collapsed": false
   },
   "outputs": [],
   "source": [
    "v12 = spn.IVs(num_vars=2, num_vals=4)\n",
    "v34 = spn.ContVars(num_vars=2)\n",
    "v5 = spn.ContVars(num_vars=1)\n",
    "s = spn.Sums((v12, [0, 5]), v34, (v12, [3]), v5, num_sums=2)\n",
    "iv = s.generate_ivs()\n",
    "w = s.generate_weights()\n",
    "counts = tf.placeholder(tf.float32, shape=(None, 1))\n",
    "\n",
    "op = s._compute_mpe_path(tf.identity(counts),\n",
    "                         w.get_value(),\n",
    "                         iv.get_value(),\n",
    "                         v12.get_value(),\n",
    "                         v34.get_value(),\n",
    "                         v12.get_value(),\n",
    "                         v5.get_value())\n",
    "\n",
    "\n",
    "op_sum = s.get_value(spn.InferenceType.MARGINAL)"
   ]
  },
  {
   "cell_type": "code",
   "execution_count": 3,
   "metadata": {
    "collapsed": true
   },
   "outputs": [],
   "source": [
    "init = w.initialize()\n",
    "counts_feed = [[10],\n",
    "               [11],\n",
    "               [12],\n",
    "               [13],\n",
    "               [14],\n",
    "               [15],\n",
    "               [16],\n",
    "               [17]]\n",
    "\n",
    "v12_feed = [[0, 1],\n",
    "            [1, 1],\n",
    "            [0, 0],\n",
    "            [3, 3],\n",
    "            [0, 1],\n",
    "            [1, 1],\n",
    "            [0, 0],\n",
    "            [3, 3]]\n",
    "\n",
    "v34_feed = [[0.1, 0.2],\n",
    "            [1.2, 0.2],\n",
    "            [0.1, 0.2],\n",
    "            [0.9, 0.8],\n",
    "            [0.1, 0.2],\n",
    "            [1.2, 0.2],\n",
    "            [0.1, 0.2],\n",
    "            [0.9, 0.8]]\n",
    "\n",
    "v5_feed = [[0.5],\n",
    "           [0.5],\n",
    "           [1.2],\n",
    "           [0.9],\n",
    "           [0.5],\n",
    "           [0.5],\n",
    "           [1.2],\n",
    "           [0.9]]\n",
    "\n",
    "#ivs_feed = [[-1], [-1], [-1], [-1], [1], [2], [3], [1]]\n",
    "#ivs_feed = [[-1, -1], [-1, -1], [-1, -1], [-1, -1], [1, 1], [2, 2], [3, 3], [1, 1]]\n",
    "ivs_feed = [[-1, 1], [-1, 1], [-1, 1], [-1, 1], [1, 1], [2, 1], [3, 1], [1, 1]]\n"
   ]
  },
  {
   "cell_type": "code",
   "execution_count": 4,
   "metadata": {
    "collapsed": false
   },
   "outputs": [
    {
     "name": "stdout",
     "output_type": "stream",
     "text": [
      "Sum: [[ 0.4666667   0.16666667]\n",
      " [ 0.48333335  0.16666667]\n",
      " [ 0.41666669  0.        ]\n",
      " [ 0.59999996  0.        ]\n",
      " [ 0.16666667  0.16666667]\n",
      " [ 0.20000002  0.16666667]\n",
      " [ 0.03333334  0.        ]\n",
      " [ 0.          0.        ]]\n"
     ]
    }
   ],
   "source": [
    "with tf.Session() as sess:\n",
    "    sess.run(init)\n",
    "    out_sum = sess.run(op_sum, feed_dict={v12: v12_feed,\n",
    "                                          v34: v34_feed,\n",
    "                                          v5: v5_feed,\n",
    "                                          iv: ivs_feed})\n",
    "    \n",
    "    print(\"Sum:\", out_sum)\n"
   ]
  },
  {
   "cell_type": "code",
   "execution_count": 5,
   "metadata": {
    "collapsed": false
   },
   "outputs": [],
   "source": [
    "with tf.Session() as sess:\n",
    "    sess.run(init)\n",
    "    # Skip the IVs op\n",
    "    out = sess.run(op, feed_dict={counts: counts_feed,\n",
    "                                  iv: ivs_feed,\n",
    "                                  v12: v12_feed,\n",
    "                                  v34: v34_feed,\n",
    "                                  v5: v5_feed})"
   ]
  },
  {
   "cell_type": "code",
   "execution_count": 6,
   "metadata": {
    "collapsed": false
   },
   "outputs": [
    {
     "name": "stdout",
     "output_type": "stream",
     "text": [
      "out[0] - Weights: \n",
      " [[[ 10.   0.   0.   0.   0.   0.]\n",
      "  [  0.   0.  11.   0.   0.   0.]\n",
      "  [  0.   0.   0.   0.   0.  12.]\n",
      "  [  0.   0.   0.   0.  13.   0.]\n",
      "  [  0.  14.   0.   0.   0.   0.]\n",
      "  [  0.   0.  15.   0.   0.   0.]\n",
      "  [  0.   0.   0.  16.   0.   0.]\n",
      "  [ 17.   0.   0.   0.   0.   0.]]\n",
      "\n",
      " [[  0.  10.   0.   0.   0.   0.]\n",
      "  [  0.  11.   0.   0.   0.   0.]\n",
      "  [ 12.   0.   0.   0.   0.   0.]\n",
      "  [ 13.   0.   0.   0.   0.   0.]\n",
      "  [  0.  14.   0.   0.   0.   0.]\n",
      "  [  0.  15.   0.   0.   0.   0.]\n",
      "  [ 16.   0.   0.   0.   0.   0.]\n",
      "  [ 17.   0.   0.   0.   0.   0.]]]\n"
     ]
    }
   ],
   "source": [
    "# Weights\n",
    "#np.testing.assert_array_almost_equal(\n",
    "#    out[0], np.array([[10., 0., 0., 0., 0., 0.],\n",
    "#                      [0., 0., 11., 0., 0., 0.],\n",
    "#                      [0., 0., 0., 0., 0., 12.],\n",
    "#                      [0., 0., 0., 0., 13., 0.],\n",
    "#                      [0., 14., 0., 0., 0., 0.],\n",
    "#                      [0., 0., 15., 0., 0., 0.],\n",
    "#                      [0., 0., 0., 16., 0., 0.],\n",
    "#                      [17., 0., 0., 0., 0., 0.]],\n",
    "#                     dtype=np.float32))\n",
    "\n",
    "print (\"out[0] - Weights: \\n\", out[0])"
   ]
  },
  {
   "cell_type": "code",
   "execution_count": 7,
   "metadata": {
    "collapsed": false
   },
   "outputs": [
    {
     "name": "stdout",
     "output_type": "stream",
     "text": [
      "out[1] - IVs: \n",
      " [[[ 10.   0.   0.   0.   0.   0.]\n",
      "  [  0.   0.  11.   0.   0.   0.]\n",
      "  [  0.   0.   0.   0.   0.  12.]\n",
      "  [  0.   0.   0.   0.  13.   0.]\n",
      "  [  0.  14.   0.   0.   0.   0.]\n",
      "  [  0.   0.  15.   0.   0.   0.]\n",
      "  [  0.   0.   0.  16.   0.   0.]\n",
      "  [ 17.   0.   0.   0.   0.   0.]]\n",
      "\n",
      " [[  0.  10.   0.   0.   0.   0.]\n",
      "  [  0.  11.   0.   0.   0.   0.]\n",
      "  [ 12.   0.   0.   0.   0.   0.]\n",
      "  [ 13.   0.   0.   0.   0.   0.]\n",
      "  [  0.  14.   0.   0.   0.   0.]\n",
      "  [  0.  15.   0.   0.   0.   0.]\n",
      "  [ 16.   0.   0.   0.   0.   0.]\n",
      "  [ 17.   0.   0.   0.   0.   0.]]]\n"
     ]
    }
   ],
   "source": [
    "# IVs\n",
    "#np.testing.assert_array_almost_equal(\n",
    "#    out[1], np.array([[10., 0., 0., 0., 0., 0.],\n",
    "#                      [0., 0., 11., 0., 0., 0.],\n",
    "#                      [0., 0., 0., 0., 0., 12.],\n",
    "#                      [0., 0., 0., 0., 13., 0.],\n",
    "#                      [0., 14., 0., 0., 0., 0.],\n",
    "#                      [0., 0., 15., 0., 0., 0.],\n",
    "#                      [0., 0., 0., 16., 0., 0.],\n",
    "#                      [17., 0., 0., 0., 0., 0.]],\n",
    "#                     dtype=np.float32))\n",
    "\n",
    "print (\"out[1] - IVs: \\n\", out[1])"
   ]
  },
  {
   "cell_type": "code",
   "execution_count": 8,
   "metadata": {
    "collapsed": false
   },
   "outputs": [
    {
     "name": "stdout",
     "output_type": "stream",
     "text": [
      "out[2]: \n",
      " [[ 10.   0.   0.   0.   0.   0.   0.   0.]\n",
      " [  0.   0.   0.   0.   0.   0.   0.   0.]\n",
      " [  0.   0.   0.   0.   0.   0.   0.   0.]\n",
      " [  0.   0.   0.   0.   0.   0.   0.   0.]\n",
      " [  0.   0.   0.   0.   0.  14.   0.   0.]\n",
      " [  0.   0.   0.   0.   0.   0.   0.   0.]\n",
      " [  0.   0.   0.   0.   0.   0.   0.   0.]\n",
      " [ 17.   0.   0.   0.   0.   0.   0.   0.]]\n"
     ]
    }
   ],
   "source": [
    "#np.testing.assert_array_almost_equal(\n",
    "#    out[2], np.array([[10., 0., 0., 0., 0., 0., 0., 0.],\n",
    "#                      [0., 0., 0., 0., 0., 0., 0., 0.],\n",
    "#                      [0., 0., 0., 0., 0., 0., 0., 0.],\n",
    "#                      [0., 0., 0., 0., 0., 0., 0., 0.],\n",
    "#                      [0., 0., 0., 0., 0., 14., 0., 0.],\n",
    "#                      [0., 0., 0., 0., 0., 0., 0., 0.],\n",
    "#                      [0., 0., 0., 0., 0., 0., 0., 0.],\n",
    "#                      [17., 0., 0., 0., 0., 0., 0., 0.]],\n",
    "#                     dtype=np.float32))\n",
    "\n",
    "print (\"out[2]: \\n\", out[2])"
   ]
  },
  {
   "cell_type": "code",
   "execution_count": 9,
   "metadata": {
    "collapsed": false
   },
   "outputs": [
    {
     "name": "stdout",
     "output_type": "stream",
     "text": [
      "out[3]: \n",
      " [[  0.   0.]\n",
      " [ 11.   0.]\n",
      " [  0.   0.]\n",
      " [  0.   0.]\n",
      " [  0.   0.]\n",
      " [ 15.   0.]\n",
      " [  0.  16.]\n",
      " [  0.   0.]]\n"
     ]
    }
   ],
   "source": [
    "#np.testing.assert_array_almost_equal(\n",
    "#    out[3], np.array([[0., 0.],\n",
    "#                      [11., 0.],\n",
    "#                      [0., 0.],\n",
    "#                      [0., 0.],\n",
    "#                      [0., 0.],\n",
    "#                      [15., 0.],\n",
    "#                      [0., 16.],\n",
    "#                      [0., 0.]],\n",
    "#                     dtype=np.float32))\n",
    "\n",
    "print (\"out[3]: \\n\", out[3])"
   ]
  },
  {
   "cell_type": "code",
   "execution_count": 10,
   "metadata": {
    "collapsed": false
   },
   "outputs": [
    {
     "name": "stdout",
     "output_type": "stream",
     "text": [
      "out[4]: \n",
      " [[  0.   0.   0.   0.   0.   0.   0.   0.]\n",
      " [  0.   0.   0.   0.   0.   0.   0.   0.]\n",
      " [  0.   0.   0.   0.   0.   0.   0.   0.]\n",
      " [  0.   0.   0.  13.   0.   0.   0.   0.]\n",
      " [  0.   0.   0.   0.   0.   0.   0.   0.]\n",
      " [  0.   0.   0.   0.   0.   0.   0.   0.]\n",
      " [  0.   0.   0.   0.   0.   0.   0.   0.]\n",
      " [  0.   0.   0.   0.   0.   0.   0.   0.]]\n"
     ]
    }
   ],
   "source": [
    "#np.testing.assert_array_almost_equal(\n",
    "#    out[4], np.array([[0., 0., 0., 0., 0., 0., 0., 0.],\n",
    "#                      [0., 0., 0., 0., 0., 0., 0., 0.],\n",
    "#                      [0., 0., 0., 0., 0., 0., 0., 0.],\n",
    "#                      [0., 0., 0., 13., 0., 0., 0., 0.],\n",
    "#                      [0., 0., 0., 0., 0., 0., 0., 0.],\n",
    "#                      [0., 0., 0., 0., 0., 0., 0., 0.],\n",
    "#                      [0., 0., 0., 0., 0., 0., 0., 0.],\n",
    "#                      [0., 0., 0., 0., 0., 0., 0., 0.]],\n",
    "#                     dtype=np.float32))\n",
    "\n",
    "print (\"out[4]: \\n\", out[4])"
   ]
  },
  {
   "cell_type": "code",
   "execution_count": null,
   "metadata": {
    "collapsed": false
   },
   "outputs": [],
   "source": [
    "#np.testing.assert_array_almost_equal(\n",
    "#    out[5], np.array([[0.],\n",
    "#                      [0.],\n",
    "#                      [12.],\n",
    "#                      [0.],\n",
    "#                      [0.],\n",
    "#                      [0.],\n",
    "#                      [0.],\n",
    "#                      [0.]],\n",
    "#                     dtype=np.float32))\n",
    "\n",
    "print (\"out[5]: \\n\", out[5])"
   ]
  },
  {
   "cell_type": "code",
   "execution_count": null,
   "metadata": {
    "collapsed": false
   },
   "outputs": [],
   "source": [
    "#np.testing.assert_array_almost_equal(\n",
    "#    out[2], np.array([[10., 0., 0., 0., 0., 0., 0., 0.],\n",
    "#                      [0., 0., 0., 0., 0., 0., 0., 0.],\n",
    "#                      [0., 0., 0., 0., 0., 0., 0., 0.],\n",
    "#                      [0., 0., 0., 0., 0., 0., 0., 0.],\n",
    "#                      [0., 0., 0., 0., 0., 14., 0., 0.],\n",
    "#                      [0., 0., 0., 0., 0., 0., 0., 0.],\n",
    "#                      [0., 0., 0., 0., 0., 0., 0., 0.],\n",
    "#                      [17., 0., 0., 0., 0., 0., 0., 0.]],\n",
    "#                     dtype=np.float32))\n",
    "\n",
    "print (\"out[6]: \\n\", out[6])"
   ]
  },
  {
   "cell_type": "code",
   "execution_count": null,
   "metadata": {
    "collapsed": false
   },
   "outputs": [],
   "source": [
    "#np.testing.assert_array_almost_equal(\n",
    "#    out[3], np.array([[0., 0.],\n",
    "#                      [11., 0.],\n",
    "#                      [0., 0.],\n",
    "#                      [0., 0.],\n",
    "#                      [0., 0.],\n",
    "#                      [15., 0.],\n",
    "#                      [0., 16.],\n",
    "#                      [0., 0.]],\n",
    "#                     dtype=np.float32))\n",
    "\n",
    "print (\"out[7]: \\n\", out[7])"
   ]
  },
  {
   "cell_type": "code",
   "execution_count": null,
   "metadata": {
    "collapsed": false
   },
   "outputs": [],
   "source": [
    "#np.testing.assert_array_almost_equal(\n",
    "#    out[4], np.array([[0., 0., 0., 0., 0., 0., 0., 0.],\n",
    "#                      [0., 0., 0., 0., 0., 0., 0., 0.],\n",
    "#                      [0., 0., 0., 0., 0., 0., 0., 0.],\n",
    "#                      [0., 0., 0., 13., 0., 0., 0., 0.],\n",
    "#                      [0., 0., 0., 0., 0., 0., 0., 0.],\n",
    "#                      [0., 0., 0., 0., 0., 0., 0., 0.],\n",
    "#                      [0., 0., 0., 0., 0., 0., 0., 0.],\n",
    "#                      [0., 0., 0., 0., 0., 0., 0., 0.]],\n",
    "#                     dtype=np.float32))\n",
    "\n",
    "print (\"out[8]: \\n\", out[8])"
   ]
  },
  {
   "cell_type": "code",
   "execution_count": null,
   "metadata": {
    "collapsed": false
   },
   "outputs": [],
   "source": [
    "#np.testing.assert_array_almost_equal(\n",
    "#    out[5], np.array([[0.],\n",
    "#                      [0.],\n",
    "#                      [12.],\n",
    "#                      [0.],\n",
    "#                      [0.],\n",
    "#                      [0.],\n",
    "#                      [0.],\n",
    "#                      [0.]],\n",
    "#                     dtype=np.float32))\n",
    "\n",
    "print (\"out[9]: \\n\", out[9])"
   ]
  },
  {
   "cell_type": "code",
   "execution_count": null,
   "metadata": {
    "collapsed": true
   },
   "outputs": [],
   "source": []
  },
  {
   "cell_type": "code",
   "execution_count": null,
   "metadata": {
    "collapsed": true
   },
   "outputs": [],
   "source": []
  }
 ],
 "metadata": {
  "kernelspec": {
   "display_name": "Python 3",
   "language": "python",
   "name": "python3"
  },
  "language_info": {
   "codemirror_mode": {
    "name": "ipython",
    "version": 3
   },
   "file_extension": ".py",
   "mimetype": "text/x-python",
   "name": "python",
   "nbconvert_exporter": "python",
   "pygments_lexer": "ipython3",
   "version": "3.5.2"
  }
 },
 "nbformat": 4,
 "nbformat_minor": 1
}
