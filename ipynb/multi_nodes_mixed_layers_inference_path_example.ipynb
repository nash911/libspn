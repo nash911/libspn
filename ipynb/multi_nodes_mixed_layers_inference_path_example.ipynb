{
 "cells": [
  {
   "cell_type": "code",
   "execution_count": 1,
   "metadata": {
    "collapsed": false
   },
   "outputs": [],
   "source": [
    "import libspn as spn\n",
    "import tensorflow as tf\n",
    "\n",
    "import numpy as np\n",
    "sess = tf.InteractiveSession()"
   ]
  },
  {
   "cell_type": "code",
   "execution_count": 2,
   "metadata": {
    "collapsed": false
   },
   "outputs": [],
   "source": [
    "# An example network with different multi-node types (ParallelSums, \n",
    "# PermProducts, Sums, Products, Sum, Product) per layer, with a mixture \n",
    "# of node-types per layer:\n",
    "# Layer 1: ParallelSums & Sums\n",
    "# Layer 2: PermProducts\n",
    "# Layer 3: Sum & Sums\n",
    "# Layer 4: Products & Product\n",
    "# Layer 5: Sum\n",
    "\n",
    "# Inputs\n",
    "ivs = spn.IVs(num_vars=2, num_vals=2, name=\"IVs\")\n",
    "\n",
    "# Layer 1 - Input mixtures\n",
    "# Sums-1 - Parallel Sums\n",
    "s1 = spn.ParallelSums((ivs, [0, 1]), num_sums=2, name=\"Sums1\")\n",
    "s1.generate_weights([0.4, 0.6, 0.1, 0.9])\n",
    "\n",
    "# Sums-2 - Sums\n",
    "s2 = spn.Sums((ivs, [2, 3]), (ivs, [2, 3]), num_sums=2, name=\"Sums2\")\n",
    "s2.generate_weights([0.7, 0.3, 0.8, 0.2])\n",
    "\n",
    "# Layer 2 - Components - Permuted Products\n",
    "# Products-1_4\n",
    "p1_4 = spn.PermProducts(s1, s2, name=\"PermComp_1-4\")\n",
    "\n",
    "# Layer 3 - Mixing components - Single Sum\n",
    "# Sum-3.1\n",
    "s31 = spn.Sum((p1_4, [0, 2, 3]), name=\"Sums31\")\n",
    "s31.generate_weights([0.2, 0.3, 0.5])\n",
    "\n",
    "# Layer 3 - Mixing components - Generic Sums\n",
    "# Sums-3.1 and 3.2\n",
    "s32_33 = spn.Sums((p1_4, [1, 2, 3]),\n",
    "                  (p1_4, [0, 1, 3]),\n",
    "                  num_sums=2, name=\"Sums32_33\")\n",
    "s32_33.generate_weights([0.1, 0.3, 0.6,\n",
    "                         0.2, 0.7, 0.1])\n",
    "\n",
    "\n",
    "# Layer 4 - Components - Generic Products\n",
    "# Products-5 and 6\n",
    "p5_6 = spn.Products(s31, (s32_33, [0]),\n",
    "                    s31, (s32_33, [1]), \n",
    "                    num_prods=2, name=\"Products_5-6\")\n",
    "\n",
    "# Layer 4 - Components - Single Product\n",
    "# Product-7\n",
    "p7 = spn.Products((s32_33, [0, 1]), name=\"Products_7\")\n",
    "\n",
    "# Layer 5 - Mixing components - Single Sum\n",
    "# Root\n",
    "root = spn.Sum((p5_6, [0]), \n",
    "               (p5_6, [1]), \n",
    "               p7, name=\"Mixture\")\n",
    "root.generate_weights([0.5, 0.2, 0.3])\n",
    "\n",
    "# Init weights\n",
    "spn.initialize_weights(root).run()"
   ]
  },
  {
   "cell_type": "code",
   "execution_count": 3,
   "metadata": {
    "collapsed": false
   },
   "outputs": [],
   "source": [
    "#spn.display_spn_graph(root)"
   ]
  },
  {
   "cell_type": "code",
   "execution_count": 4,
   "metadata": {
    "collapsed": false
   },
   "outputs": [],
   "source": [
    "# Feed\n",
    "values = np.arange(-1, 2)\n",
    "points = np.array(np.meshgrid(*[values for i in range(2)])).T\n",
    "feed = points.reshape(-1, points.shape[-1])\n",
    "\n",
    "# True value\n",
    "true_values = np.array([[1.0],\n",
    "                        [0.58593],\n",
    "                        [0.05493],\n",
    "                        [0.03667],\n",
    "                        [0.0213741],\n",
    "                        [0.0020421],\n",
    "                        [0.63567],\n",
    "                        [0.3727701],\n",
    "                        [0.0348381]], dtype=spn.conf.dtype.as_numpy_dtype)\n",
    "\n",
    "# True MPE value\n",
    "true_mpe_values = np.array([[0.07776],\n",
    "                            [0.07776],\n",
    "                            [0.00486],\n",
    "                            [0.0032256],\n",
    "                            [0.0032256],\n",
    "                            [0.0002688],\n",
    "                            [0.07776],\n",
    "                            [0.07776],\n",
    "                            [0.00486]], dtype=spn.conf.dtype.as_numpy_dtype)\n",
    "\n",
    "# True MPE value\n",
    "true_ivs_counts_marginal = np.array([[0, 2, 2, 0],\n",
    "                                     [0, 2, 2, 0],\n",
    "                                     [0, 2, 0, 2],\n",
    "                                     [2, 0, 2, 0],\n",
    "                                     [2, 0, 2, 0],\n",
    "                                     [2, 0, 0, 2],\n",
    "                                     [0, 2, 2, 0],\n",
    "                                     [0, 2, 2, 0],\n",
    "                                     [0, 2, 0, 2]], dtype=spn.conf.dtype.as_numpy_dtype)\n",
    "\n",
    "# True MPE value\n",
    "true_ivs_counts_mpe = np.array([[0, 2, 2, 0],\n",
    "                                [0, 2, 2, 0],\n",
    "                                [0, 2, 0, 2],\n",
    "                                [2, 0, 2, 0],\n",
    "                                [2, 0, 2, 0],\n",
    "                                [2, 0, 0, 2],\n",
    "                                [0, 2, 2, 0],\n",
    "                                [0, 2, 2, 0],\n",
    "                                [0, 2, 0, 2]], dtype=spn.conf.dtype.as_numpy_dtype)"
   ]
  },
  {
   "cell_type": "code",
   "execution_count": 5,
   "metadata": {
    "collapsed": false
   },
   "outputs": [],
   "source": [
    "# Value\n",
    "value=root.get_value()\n",
    "log_value=root.get_log_value()"
   ]
  },
  {
   "cell_type": "code",
   "execution_count": 6,
   "metadata": {
    "collapsed": false
   },
   "outputs": [
    {
     "name": "stdout",
     "output_type": "stream",
     "text": [
      "[[ 1.        ]\n",
      " [ 0.58593005]\n",
      " [ 0.05493001]\n",
      " [ 0.03667   ]\n",
      " [ 0.0213741 ]\n",
      " [ 0.0020421 ]\n",
      " [ 0.63567001]\n",
      " [ 0.37277013]\n",
      " [ 0.0348381 ]]\n",
      "[[ 1.        ]\n",
      " [ 0.58592999]\n",
      " [ 0.05493   ]\n",
      " [ 0.03667   ]\n",
      " [ 0.0213741 ]\n",
      " [ 0.0020421 ]\n",
      " [ 0.63567001]\n",
      " [ 0.3727701 ]\n",
      " [ 0.0348381 ]]\n"
     ]
    }
   ],
   "source": [
    "value_array=value.eval(feed_dict={ivs: feed})\n",
    "value_array_log=np.exp(log_value.eval(feed_dict={ivs: feed}))\n",
    "\n",
    "print(value_array)\n",
    "print(true_values)\n",
    "np.testing.assert_almost_equal(value_array, true_values)\n",
    "np.testing.assert_almost_equal(value_array_log, true_values)"
   ]
  },
  {
   "cell_type": "code",
   "execution_count": 7,
   "metadata": {
    "collapsed": true
   },
   "outputs": [],
   "source": [
    "# MPE Value\n",
    "mpe_value = root.get_value(spn.InferenceType.MPE)\n",
    "log_mpe_value = root.get_log_value(spn.InferenceType.MPE)"
   ]
  },
  {
   "cell_type": "code",
   "execution_count": 8,
   "metadata": {
    "collapsed": false
   },
   "outputs": [
    {
     "name": "stdout",
     "output_type": "stream",
     "text": [
      "[[ 0.07776  ]\n",
      " [ 0.07776  ]\n",
      " [ 0.00486  ]\n",
      " [ 0.0032256]\n",
      " [ 0.0032256]\n",
      " [ 0.0002688]\n",
      " [ 0.07776  ]\n",
      " [ 0.07776  ]\n",
      " [ 0.00486  ]]\n",
      "[[ 0.07776  ]\n",
      " [ 0.07776  ]\n",
      " [ 0.00486  ]\n",
      " [ 0.0032256]\n",
      " [ 0.0032256]\n",
      " [ 0.0002688]\n",
      " [ 0.07776  ]\n",
      " [ 0.07776  ]\n",
      " [ 0.00486  ]]\n"
     ]
    }
   ],
   "source": [
    "mpe_value_array=mpe_value.eval(feed_dict={ivs: feed})\n",
    "mpe_value_array_log=np.exp(log_mpe_value.eval(feed_dict={ivs: feed}))\n",
    "\n",
    "print(mpe_value_array)\n",
    "print(true_mpe_values)\n",
    "np.testing.assert_almost_equal(mpe_value_array, true_mpe_values)\n",
    "np.testing.assert_almost_equal(mpe_value_array_log, true_mpe_values)"
   ]
  },
  {
   "cell_type": "code",
   "execution_count": 9,
   "metadata": {
    "collapsed": false
   },
   "outputs": [
    {
     "name": "stdout",
     "output_type": "stream",
     "text": [
      "ivs_counts_mep: \n",
      " [[ 0.  2.  2.  0.]\n",
      " [ 0.  2.  2.  0.]\n",
      " [ 0.  2.  0.  2.]\n",
      " [ 2.  0.  2.  0.]\n",
      " [ 2.  0.  2.  0.]\n",
      " [ 2.  0.  0.  2.]\n",
      " [ 0.  2.  2.  0.]\n",
      " [ 0.  2.  2.  0.]\n",
      " [ 0.  2.  0.  2.]]\n"
     ]
    }
   ],
   "source": [
    "# MPE MPE Path\n",
    "mpe_mpe_path_gen = spn.MPEPath(value_inference_type=spn.InferenceType.MPE, log=False)\n",
    "mpe_mpe_path_gen.get_mpe_path(root)\n",
    "ivs_counts_mpe = mpe_mpe_path_gen.counts[ivs].eval(feed_dict={ivs: feed})\n",
    "\n",
    "print(\"ivs_counts_mep: \\n\", ivs_counts_mpe)\n",
    "np.testing.assert_almost_equal(ivs_counts_mpe, true_ivs_counts_mpe)"
   ]
  },
  {
   "cell_type": "code",
   "execution_count": 10,
   "metadata": {
    "collapsed": false
   },
   "outputs": [
    {
     "name": "stdout",
     "output_type": "stream",
     "text": [
      "ivs_counts_marginal: \n",
      " [[ 0.  2.  2.  0.]\n",
      " [ 0.  2.  2.  0.]\n",
      " [ 0.  2.  0.  2.]\n",
      " [ 2.  0.  2.  0.]\n",
      " [ 2.  0.  2.  0.]\n",
      " [ 2.  0.  0.  2.]\n",
      " [ 0.  2.  2.  0.]\n",
      " [ 0.  2.  2.  0.]\n",
      " [ 0.  2.  0.  2.]]\n"
     ]
    }
   ],
   "source": [
    "# MPE Marginal Path\n",
    "mpe_marginal_path_gen = spn.MPEPath(value_inference_type=spn.InferenceType.MARGINAL, log=False)\n",
    "mpe_marginal_path_gen.get_mpe_path(root)\n",
    "ivs_counts_marginal = mpe_marginal_path_gen.counts[ivs].eval(feed_dict={ivs: feed})\n",
    "\n",
    "print(\"ivs_counts_marginal: \\n\", ivs_counts_marginal)\n",
    "np.testing.assert_almost_equal(ivs_counts_marginal, true_ivs_counts_marginal)"
   ]
  }
 ],
 "metadata": {
  "kernelspec": {
   "display_name": "Python 3",
   "language": "python",
   "name": "python3"
  },
  "language_info": {
   "codemirror_mode": {
    "name": "ipython",
    "version": 3
   },
   "file_extension": ".py",
   "mimetype": "text/x-python",
   "name": "python",
   "nbconvert_exporter": "python",
   "pygments_lexer": "ipython3",
   "version": "3.5.2"
  }
 },
 "nbformat": 4,
 "nbformat_minor": 1
}
