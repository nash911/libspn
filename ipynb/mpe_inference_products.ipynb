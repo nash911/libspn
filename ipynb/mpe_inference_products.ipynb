{
 "cells": [
  {
   "cell_type": "code",
   "execution_count": null,
   "metadata": {
    "collapsed": true
   },
   "outputs": [],
   "source": [
    "import libspn as spn\n",
    "import tensorflow as tf\n",
    "import numpy as np\n",
    "sess = tf.InteractiveSession()"
   ]
  },
  {
   "cell_type": "code",
   "execution_count": null,
   "metadata": {
    "collapsed": false
   },
   "outputs": [],
   "source": [
    "# Inputs\n",
    "ivs = spn.IVs(num_vars=2, num_vals=2, name=\"IVs\")\n",
    "\n",
    "# Input mixtures\n",
    "s11 = spn.Sum((ivs, [0, 1]), name=\"Sum1.1\")\n",
    "s11.generate_weights([0.4, 0.6])\n",
    "s12 = spn.Sum((ivs, [0, 1]), name=\"Sum1.2\")\n",
    "s12.generate_weights([0.1, 0.9])\n",
    "s21 = spn.Sum((ivs, [2, 3]), name=\"Sum2.1\")\n",
    "s21.generate_weights([0.7, 0.3])\n",
    "s22 = spn.Sum((ivs, [2, 3]), name=\"Sum2.2\")\n",
    "s22.generate_weights([0.8, 0.2])\n",
    "\n",
    "# Components\n",
    "p = spn.Products(s11, s21,\n",
    "                 s11, s22,\n",
    "                 s12, s22,\n",
    "                 num_prods=3,\n",
    "                 name=\"Comp1-2-3\")\n",
    "\n",
    "# Mixing components\n",
    "root = spn.Sum(p, name=\"Mixture\")\n",
    "root.generate_weights([0.5, 0.2, 0.3])\n",
    "\n",
    "# Init weights\n",
    "spn.initialize_weights(root).run()"
   ]
  },
  {
   "cell_type": "code",
   "execution_count": null,
   "metadata": {
    "collapsed": false
   },
   "outputs": [],
   "source": [
    "#spn.display_spn_graph(root)"
   ]
  },
  {
   "cell_type": "code",
   "execution_count": null,
   "metadata": {
    "collapsed": false
   },
   "outputs": [],
   "source": [
    "# Feed\n",
    "values = np.arange(-1, 2)\n",
    "points = np.array(np.meshgrid(*[values for i in range(2)])).T\n",
    "feed = points.reshape(-1, points.shape[-1])\n",
    "\n",
    "# True value\n",
    "true_values = np.array([[1.0],\n",
    "                        [0.75],\n",
    "                        [0.25],\n",
    "                        [0.31],\n",
    "                        [0.228],\n",
    "                        [0.082],\n",
    "                        [0.69],\n",
    "                        [0.522],\n",
    "                        [0.168]], dtype=spn.conf.dtype.as_numpy_dtype)\n",
    "\n",
    "# True MPE value\n",
    "true_mpe_values = np.array([[0.216],\n",
    "                            [0.216],\n",
    "                            [0.09],\n",
    "                            [0.14],\n",
    "                            [0.14],\n",
    "                            [0.06],\n",
    "                            [0.216],\n",
    "                            [0.216],\n",
    "                            [0.09]], dtype=spn.conf.dtype.as_numpy_dtype)\n",
    "\n",
    "# True IVS counts Marginal inference\n",
    "true_ivs_counts_marginal = np.array([[0, 1, 1, 0],\n",
    "                                     [0, 1, 1, 0],\n",
    "                                     [0, 1, 0, 1],\n",
    "                                     [1, 0, 1, 0],\n",
    "                                     [1, 0, 1, 0],\n",
    "                                     [1, 0, 0, 1],\n",
    "                                     [0, 1, 1, 0],\n",
    "                                     [0, 1, 1, 0],\n",
    "                                     [0, 1, 0, 1]], dtype=spn.conf.dtype.as_numpy_dtype)\n",
    "\n",
    "# True IVS counts MPE inference\n",
    "true_ivs_counts_mpe = np.array([[0, 1, 1, 0],\n",
    "                                [0, 1, 1, 0],\n",
    "                                [0, 1, 0, 1],\n",
    "                                [1, 0, 1, 0],\n",
    "                                [1, 0, 1, 0],\n",
    "                                [1, 0, 0, 1],\n",
    "                                [0, 1, 1, 0],\n",
    "                                [0, 1, 1, 0],\n",
    "                                [0, 1, 0, 1]], dtype=spn.conf.dtype.as_numpy_dtype)"
   ]
  },
  {
   "cell_type": "code",
   "execution_count": null,
   "metadata": {
    "collapsed": false
   },
   "outputs": [],
   "source": [
    "# Value\n",
    "value=root.get_value()\n",
    "log_value=root.get_log_value()"
   ]
  },
  {
   "cell_type": "code",
   "execution_count": null,
   "metadata": {
    "collapsed": false
   },
   "outputs": [],
   "source": [
    "value_array=value.eval(feed_dict={ivs: feed})\n",
    "value_array_log=np.exp(log_value.eval(feed_dict={ivs: feed}))\n",
    "\n",
    "print(value_array)\n",
    "print(true_values)\n",
    "np.testing.assert_almost_equal(value_array, true_values)\n",
    "np.testing.assert_almost_equal(value_array_log, true_values)"
   ]
  },
  {
   "cell_type": "code",
   "execution_count": null,
   "metadata": {
    "collapsed": true
   },
   "outputs": [],
   "source": [
    "# MPE Value\n",
    "mpe_value = root.get_value(spn.InferenceType.MPE)\n",
    "log_mpe_value = root.get_log_value(spn.InferenceType.MPE)"
   ]
  },
  {
   "cell_type": "code",
   "execution_count": null,
   "metadata": {
    "collapsed": false
   },
   "outputs": [],
   "source": [
    "mpe_value_array=mpe_value.eval(feed_dict={ivs: feed})\n",
    "mpe_value_array_log=np.exp(log_mpe_value.eval(feed_dict={ivs: feed}))\n",
    "\n",
    "print(mpe_value_array)\n",
    "print(true_mpe_values)\n",
    "np.testing.assert_almost_equal(mpe_value_array, true_mpe_values)\n",
    "np.testing.assert_almost_equal(mpe_value_array_log, true_mpe_values)"
   ]
  },
  {
   "cell_type": "code",
   "execution_count": null,
   "metadata": {
    "collapsed": false
   },
   "outputs": [],
   "source": [
    "# MPE MPE Path\n",
    "mpe_mpe_path_gen = spn.MPEPath(value_inference_type=spn.InferenceType.MPE, log=False)\n",
    "mpe_mpe_path_gen.get_mpe_path(root)\n",
    "ivs_counts_mpe = mpe_mpe_path_gen.counts[ivs].eval(feed_dict={ivs: feed})\n",
    "\n",
    "print(\"ivs_counts_mep: \\n\", ivs_counts_mpe)\n",
    "np.testing.assert_almost_equal(ivs_counts_mpe, true_ivs_counts_mpe)"
   ]
  },
  {
   "cell_type": "code",
   "execution_count": null,
   "metadata": {
    "collapsed": false
   },
   "outputs": [],
   "source": [
    "# MPE Marginal Path\n",
    "mpe_marginal_path_gen = spn.MPEPath(value_inference_type=spn.InferenceType.MARGINAL, log=False)\n",
    "mpe_marginal_path_gen.get_mpe_path(root)\n",
    "ivs_counts_marginal = mpe_marginal_path_gen.counts[ivs].eval(feed_dict={ivs: feed})\n",
    "\n",
    "print(\"ivs_counts_marginal: \\n\", ivs_counts_marginal)\n",
    "np.testing.assert_almost_equal(ivs_counts_marginal, true_ivs_counts_marginal)"
   ]
  }
 ],
 "metadata": {
  "kernelspec": {
   "display_name": "Python 3",
   "language": "python",
   "name": "python3"
  },
  "language_info": {
   "codemirror_mode": {
    "name": "ipython",
    "version": 3
   },
   "file_extension": ".py",
   "mimetype": "text/x-python",
   "name": "python",
   "nbconvert_exporter": "python",
   "pygments_lexer": "ipython3",
   "version": "3.5.2"
  }
 },
 "nbformat": 4,
 "nbformat_minor": 1
}
