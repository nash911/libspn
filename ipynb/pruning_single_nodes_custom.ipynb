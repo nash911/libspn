{
 "cells": [
  {
   "cell_type": "code",
   "execution_count": null,
   "metadata": {
    "collapsed": true
   },
   "outputs": [],
   "source": [
    "import libspn as spn\n",
    "import tensorflow as tf\n",
    "import numpy as np"
   ]
  },
  {
   "cell_type": "markdown",
   "metadata": {},
   "source": [
    "### Construct a custom SPN graph"
   ]
  },
  {
   "cell_type": "code",
   "execution_count": null,
   "metadata": {
    "collapsed": true
   },
   "outputs": [],
   "source": [
    "# Input variables\n",
    "inp_var_1 = spn.IVs(num_vars=1, num_vals=4, name=\"Val_Input_1\")\n",
    "inp_var_2_3 = spn.IVs(num_vars=2, num_vals=4, name=\"Val_Input_2_3\")\n",
    "# ContVar\n",
    "inp_var_4 = spn.ContVars(num_vars=1, name=\"Val_Input_4\")\n",
    "\n",
    "# Indicator variables\n",
    "ivs_1 = spn.IVs(num_vars=1, num_vals=4, name=\"IVs_1\")\n",
    "ivs_3_4 = spn.IVs(num_vars=2, num_vals=4, name=\"IVs_2\")\n",
    "\n",
    "# Layer - 1\n",
    "# Decomposition - 1\n",
    "s_11 = spn.Sum((inp_var_1), name=\"S_1.1\")\n",
    "s_11.generate_weights([0.3, 0.1, 0.3, 0.3])\n",
    "s_11.set_ivs((ivs_1, [0, 1, 2, 3]))\n",
    "s_12 = spn.Sum((inp_var_1, None), name=\"S_1.2\")\n",
    "s_12.generate_weights([0.1, 0.4, 0.1, 0.4])\n",
    "s_12.set_ivs(ivs_1)\n",
    "\n",
    "s_21 = spn.Sum((inp_var_2_3, 0), (inp_var_2_3, 1), (inp_var_2_3, 2), (inp_var_2_3, 3), name=\"S_2.1\")\n",
    "s_21.generate_weights([0.25, 0.25, 0.25, 0.25])\n",
    "s_22 = spn.Sum((inp_var_2_3, [0, 1]), (inp_var_2_3, [2, 3]), name=\"S_2.2\")\n",
    "s_22.generate_weights([0.1, 0.2, 0.3, 0.4])\n",
    "\n",
    "# Decomposition - 2\n",
    "s_31 = spn.Sum((inp_var_2_3, [4, 5, 6, 7]), name=\"S_3.1\")\n",
    "s_31.generate_weights([0.2, 0.2, 0.4, 0.2])\n",
    "s_31.set_ivs((ivs_3_4, [0, 1, 2, 3]))\n",
    "s_32 = spn.Sum((inp_var_2_3, 4), (inp_var_2_3, [5, 6]), (inp_var_2_3, [7]), name=\"S_3.2\")\n",
    "s_32.generate_weights([0.25, 0.25, 0.25, 0.25])\n",
    "s_32.set_ivs((ivs_3_4, [0, 1, 2, 3]))\n",
    "\n",
    "s_41 = spn.Sum(inp_var_4, (inp_var_4, None),  (inp_var_4, 0), (inp_var_4, [0]), name=\"S_4.1\")\n",
    "s_41.generate_weights([0.27, 0.28, 0.29, 0.16])\n",
    "s_41.set_ivs((ivs_3_4, [4, 5, 6, 7]))\n",
    "s_42 = spn.Sum(inp_var_4, (inp_var_4, None),  (inp_var_4, 0), (inp_var_4, [0]), name=\"S_4.2\")\n",
    "s_42.generate_weights([0.1, 0.35, 0.1, 0.45])\n",
    "s_42.set_ivs((ivs_3_4, [4, 5, 6, 7]))\n",
    "\n",
    "# Layer - 2\n",
    "# Decomposition - 1\n",
    "p_11 = spn.Product(*[s_11, s_21], name=\"P_1.1\")\n",
    "p_12 = spn.Product(*[s_11, s_22], name=\"P_1.2\")\n",
    "p_13 = spn.Product(*[s_12, s_21], name=\"P_1.3\")\n",
    "p_14 = spn.Product(*[s_12, s_22], name=\"P_1.4\")\n",
    "# Decomposition - 2\n",
    "p_21 = spn.Product(*[s_31, s_41], name=\"P_2.1\")\n",
    "p_22 = spn.Product(*[s_31, s_42], name=\"P_2.2\")\n",
    "p_23 = spn.Product(*[s_32, s_41], name=\"P_2.3\")\n",
    "p_24 = spn.Product(*[s_32, s_42], name=\"P_2.4\")\n",
    "\n",
    "# Layer - 3\n",
    "# Decomposition - 1\n",
    "s_51 = spn.Sum(*[p_11, p_12, p_13, p_14], name=\"S_5.1\")\n",
    "s_51.generate_weights([0.25, 0.25, 0.25, 0.25])\n",
    "s_52 = spn.Sum(*[p_11, p_12, p_13, p_14], name=\"S_5.2\")\n",
    "s_52.generate_weights([0.1, 0.3, 0.3, 0.3])\n",
    "s_53 = spn.Sum(*[p_11, p_12, p_13, p_14], name=\"S_5.3\")\n",
    "s_53.generate_weights([0.2, 0.2, 0.4, 0.2])\n",
    "# Decomposition - 2\n",
    "s_61 = spn.Sum(*[p_21, p_22, p_23, p_24], name=\"S_6.1\")\n",
    "s_61.generate_weights([0.4, 0.2, 0.2, 0.4])\n",
    "s_62 = spn.Sum(*[p_21, p_22, p_23, p_24], name=\"S_6.2\")\n",
    "s_62.generate_weights([0.3, 0.35, 0.3, 0.05])\n",
    "s_63 = spn.Sum(*[p_21, p_22, p_23, p_24], name=\"S_6.3\")\n",
    "s_63.generate_weights([0.3, 0.3, 0.3, 0.1])\n",
    "\n",
    "# Layer - 4\n",
    "p_31 = spn.Product(*[s_51, s_61], name=\"P_3.1\")\n",
    "p_32 = spn.Product(*[s_51, s_62], name=\"P_3.2\")\n",
    "p_33 = spn.Product(*[s_51, s_63], name=\"P_3.3\")\n",
    "p_34 = spn.Product(*[s_52, s_61], name=\"P_3.4\")\n",
    "p_35 = spn.Product(*[s_52, s_62], name=\"P_3.5\")\n",
    "p_36 = spn.Product(*[s_52, s_63], name=\"P_3.6\")\n",
    "p_37 = spn.Product(*[s_53, s_61], name=\"P_3.7\")\n",
    "p_38 = spn.Product(*[s_53, s_62], name=\"P_3.8\")\n",
    "p_39 = spn.Product(*[s_53, s_63], name=\"P_3.9\")\n",
    "\n",
    "# Root node\n",
    "root = spn.Sum(*[p_31, p_32, p_33, p_34, p_35, p_36, p_37, p_38, p_39], name=\"root\")\n",
    "root.generate_weights([0.27, 0.03, 0.03, 0.04, 0.27, 0.03, 0.03, 0.03, 0.27])\n",
    "ivs_root = root.generate_ivs()"
   ]
  },
  {
   "cell_type": "markdown",
   "metadata": {},
   "source": [
    "### Inspect"
   ]
  },
  {
   "cell_type": "code",
   "execution_count": null,
   "metadata": {},
   "outputs": [],
   "source": [
    "print(\"Number of nodes: \", root.get_num_nodes())\n",
    "print(\"\\nScope of root: \", root.get_scope())\n",
    "print(\"\\nIs the graph valid?: \", root.is_valid())\n",
    "print(\"\\nTF graph size: \", root.get_tf_graph_size())"
   ]
  },
  {
   "cell_type": "markdown",
   "metadata": {},
   "source": [
    "### Visualize the SPN graph"
   ]
  },
  {
   "cell_type": "code",
   "execution_count": null,
   "metadata": {},
   "outputs": [],
   "source": [
    "spn.display_spn_graph(root)"
   ]
  },
  {
   "cell_type": "markdown",
   "metadata": {},
   "source": [
    "### Initialise weights and pull weight values from TF graph"
   ]
  },
  {
   "cell_type": "code",
   "execution_count": null,
   "metadata": {
    "collapsed": true
   },
   "outputs": [],
   "source": [
    "init_weights = spn.initialize_weights(root)\n",
    "pruning = spn.Pruning(root)\n",
    "\n",
    "with spn.session() as (sess, run):\n",
    "    sess.run(init_weights)\n",
    "    pruning.save_param_values()"
   ]
  },
  {
   "cell_type": "markdown",
   "metadata": {},
   "source": [
    "### Perform pruning"
   ]
  },
  {
   "cell_type": "code",
   "execution_count": null,
   "metadata": {},
   "outputs": [],
   "source": [
    "pruning.prune(threshold=0.26)"
   ]
  },
  {
   "cell_type": "markdown",
   "metadata": {},
   "source": [
    "### Visualize the SPN graph post-pruning"
   ]
  },
  {
   "cell_type": "code",
   "execution_count": null,
   "metadata": {},
   "outputs": [],
   "source": [
    "spn.display_spn_graph(root)"
   ]
  },
  {
   "cell_type": "markdown",
   "metadata": {},
   "source": [
    "### Inspect graph post-pruning"
   ]
  },
  {
   "cell_type": "code",
   "execution_count": null,
   "metadata": {},
   "outputs": [],
   "source": [
    "print(\"Number of nodes: \", root.get_num_nodes())\n",
    "print(\"\\nScope of root: \", root.get_scope())\n",
    "print(\"\\nIs the graph valid?: \", root.is_valid())\n",
    "print(\"\\nTF graph size: \", root.get_tf_graph_size())"
   ]
  },
  {
   "cell_type": "markdown",
   "metadata": {},
   "source": [
    "### Evaluate the pruned SPN graph by running it in a session"
   ]
  },
  {
   "cell_type": "code",
   "execution_count": null,
   "metadata": {},
   "outputs": [],
   "source": [
    "init_weights_2 = spn.initialize_weights(root)\n",
    "value=root.get_value()\n",
    "log_value=root.get_log_value()\n",
    "\n",
    "# Inputs feed\n",
    "values = np.arange(-1, 4)\n",
    "points = np.array(np.meshgrid(*[values for i in range(3)])).T\n",
    "inps_feed = points.reshape(-1, points.shape[-1])\n",
    "inp_4_feed = np.random.rand(inps_feed.shape[0], 1)\n",
    "\n",
    "# IVs feed\n",
    "ivs_1_feed = np.ones((inps_feed.shape[0], 1)) * -1\n",
    "ivs_3_4_feed = np.ones((inps_feed.shape[0], 2)) * -1\n",
    "ivs_root_feed = np.ones((inps_feed.shape[0], 1)) * -1\n",
    "\n",
    "with spn.session() as (sess, run):\n",
    "    sess.run(init_weights_2)\n",
    "    value_out = sess.run(value, feed_dict={inp_var_1: inps_feed[:, 0:1],\n",
    "                                           inp_var_2_3: inps_feed[:, 1:3],\n",
    "                                           inp_var_4: inp_4_feed,\n",
    "                                           ivs_1: ivs_1_feed,\n",
    "                                           ivs_3_4: ivs_3_4_feed,\n",
    "                                           ivs_root: ivs_root_feed})\n",
    "    log_value_out = sess.run(value, feed_dict={inp_var_1: inps_feed[:, 0:1],\n",
    "                                               inp_var_2_3: inps_feed[:, 1:3],\n",
    "                                               inp_var_4: inp_4_feed,\n",
    "                                               ivs_1: ivs_1_feed,\n",
    "                                               ivs_3_4: ivs_3_4_feed,\n",
    "                                               ivs_root: ivs_root_feed})\n",
    "    \n",
    "print(\"Value Out: \\n\", value_out[0:10])\n",
    "print(\"\\nLog Value Out: \\n\", log_value_out[0:10])\n"
   ]
  }
 ],
 "metadata": {
  "kernelspec": {
   "display_name": "Python 3",
   "language": "python",
   "name": "python3"
  },
  "language_info": {
   "codemirror_mode": {
    "name": "ipython",
    "version": 3
   },
   "file_extension": ".py",
   "mimetype": "text/x-python",
   "name": "python",
   "nbconvert_exporter": "python",
   "pygments_lexer": "ipython3",
   "version": "3.5.2"
  }
 },
 "nbformat": 4,
 "nbformat_minor": 2
}
